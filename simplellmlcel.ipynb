{
 "cells": [
  {
   "cell_type": "code",
   "execution_count": 32,
   "id": "ab3ed186",
   "metadata": {},
   "outputs": [],
   "source": [
    "import os\n",
    "from dotenv import load_dotenv\n",
    "load_dotenv()\n",
    "\n",
    "import ollama\n",
    "ollama_api_key = os.getenv(\"OLLAMA_API_KEY\")\n",
    "\n",
    "groq_api_key = os.getenv(\"GROQ_API_KEY\")\n"
   ]
  },
  {
   "cell_type": "code",
   "execution_count": 38,
   "id": "76353035",
   "metadata": {},
   "outputs": [
    {
     "data": {
      "text/plain": [
       "ChatGroq(client=<groq.resources.chat.completions.Completions object at 0x0000021C42C1F220>, async_client=<groq.resources.chat.completions.AsyncCompletions object at 0x0000021C42C7F2B0>, model_name='gemma2-9b-it', model_kwargs={}, groq_api_key=SecretStr('**********'))"
      ]
     },
     "execution_count": 38,
     "metadata": {},
     "output_type": "execute_result"
    }
   ],
   "source": [
    "from langchain_groq import ChatGroq\n",
    "\n",
    "model = ChatGroq(model_name=\"gemma2-9b-it\", api_key=groq_api_key)\n",
    "model"
   ]
  },
  {
   "cell_type": "code",
   "execution_count": 50,
   "id": "7f0b283b",
   "metadata": {},
   "outputs": [
    {
     "name": "stdout",
     "output_type": "stream",
     "text": [
      "Bonjour, comment allez-vous ? \n",
      "\n",
      "\n",
      "You can also use the more informal:\n",
      " \n",
      " Salut, comment vas-tu ? \n",
      "\n",
      "\n"
     ]
    }
   ],
   "source": [
    "from langchain_core.messages import HumanMessage, SystemMessage\n",
    "\n",
    "# Construct messages\n",
    "messages = [\n",
    "    SystemMessage(content=\"Translate the following from English to French.\"),\n",
    "    HumanMessage(content=\"Hello, how are you?\")\n",
    "]\n",
    "\n",
    "# Call the model\n",
    "response = model.invoke(messages)\n",
    "\n",
    "# Print response\n",
    "print(response.content)\n"
   ]
  },
  {
   "cell_type": "code",
   "execution_count": null,
   "id": "ed4a456a",
   "metadata": {},
   "outputs": [],
   "source": [
    "from langchain_core.output_parsers import StrOutputParser\n",
    "parser = StrOutputParser()\n",
    "parser.invoke(response)"
   ]
  },
  {
   "cell_type": "code",
   "execution_count": null,
   "id": "acd619b5",
   "metadata": {},
   "outputs": [],
   "source": [
    "####Using LCEL - chain the components\n",
    "chain = model | parser\n",
    "chain.invoke(messages)"
   ]
  },
  {
   "cell_type": "code",
   "execution_count": 64,
   "id": "8ac646aa",
   "metadata": {},
   "outputs": [],
   "source": [
    "##Prompt Template\n",
    "from langchain_core.prompts import ChatPromptTemplate\n",
    "generic_prompt = \"Translate the following into French: {language}\"\n",
    "prompt = ChatPromptTemplate.from_messages([(\"system\",generic_prompt),(\"user\",\"{text}\")])\n",
    "\n"
   ]
  },
  {
   "cell_type": "code",
   "execution_count": 65,
   "id": "95bd8fbc",
   "metadata": {},
   "outputs": [],
   "source": [
    "result=prompt.invoke({\"language\": \"French\", \"text\": \"Hello, how are you?\"})"
   ]
  },
  {
   "cell_type": "code",
   "execution_count": 66,
   "id": "49e09e69",
   "metadata": {},
   "outputs": [
    {
     "data": {
      "text/plain": [
       "[SystemMessage(content='Translate the following into French: French', additional_kwargs={}, response_metadata={}),\n",
       " HumanMessage(content='Hello, how are you?', additional_kwargs={}, response_metadata={})]"
      ]
     },
     "execution_count": 66,
     "metadata": {},
     "output_type": "execute_result"
    }
   ],
   "source": [
    "result.to_messages()"
   ]
  },
  {
   "cell_type": "code",
   "execution_count": 71,
   "id": "355ab9d1",
   "metadata": {},
   "outputs": [
    {
     "data": {
      "text/plain": [
       "'The translation is:\\n\\n**Bonjour, comment allez-vous ?**\\n\\nThis is the formal way to say \"Hello, how are you?\" in French.\\n\\n\\nYou can also say **Salut, ça va ?**  which is more informal. \\n'"
      ]
     },
     "execution_count": 71,
     "metadata": {},
     "output_type": "execute_result"
    }
   ],
   "source": [
    "chain = prompt | model | parser\n",
    "chain.invoke({\"language\": \"French\", \"text\": \"Hello, how are you?\"})"
   ]
  }
 ],
 "metadata": {
  "kernelspec": {
   "display_name": "langchain",
   "language": "python",
   "name": "python3"
  },
  "language_info": {
   "codemirror_mode": {
    "name": "ipython",
    "version": 3
   },
   "file_extension": ".py",
   "mimetype": "text/x-python",
   "name": "python",
   "nbconvert_exporter": "python",
   "pygments_lexer": "ipython3",
   "version": "3.10.0"
  }
 },
 "nbformat": 4,
 "nbformat_minor": 5
}
